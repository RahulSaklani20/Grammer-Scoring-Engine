{
 "cells": [
  {
   "cell_type": "code",
   "execution_count": 74,
   "metadata": {},
   "outputs": [],
   "source": [
    "import os\n",
    "import pandas as pd\n",
    "import numpy as np \n",
    "import matplotlib.pyplot as plt\n",
    "import seaborn as sns\n",
    "import librosa"
   ]
  },
  {
   "cell_type": "code",
   "execution_count": 75,
   "metadata": {},
   "outputs": [],
   "source": [
    "\n",
    "train_df = pd.read_csv(\"Dataset/train.csv\")\n",
    "test_df = pd.read_csv(\"Dataset/test.csv\")\n"
   ]
  },
  {
   "cell_type": "code",
   "execution_count": 76,
   "metadata": {},
   "outputs": [
    {
     "name": "stdout",
     "output_type": "stream",
     "text": [
      "<class 'pandas.core.frame.DataFrame'>\n",
      "RangeIndex: 444 entries, 0 to 443\n",
      "Data columns (total 2 columns):\n",
      " #   Column    Non-Null Count  Dtype  \n",
      "---  ------    --------------  -----  \n",
      " 0   filename  444 non-null    object \n",
      " 1   label     444 non-null    float64\n",
      "dtypes: float64(1), object(1)\n",
      "memory usage: 7.1+ KB\n"
     ]
    }
   ],
   "source": [
    "train_df.info()"
   ]
  },
  {
   "cell_type": "code",
   "execution_count": 77,
   "metadata": {},
   "outputs": [
    {
     "name": "stdout",
     "output_type": "stream",
     "text": [
      "<class 'pandas.core.frame.DataFrame'>\n",
      "RangeIndex: 444 entries, 0 to 443\n",
      "Data columns (total 2 columns):\n",
      " #   Column    Non-Null Count  Dtype  \n",
      "---  ------    --------------  -----  \n",
      " 0   filename  444 non-null    object \n",
      " 1   label     444 non-null    float64\n",
      "dtypes: float64(1), object(1)\n",
      "memory usage: 7.1+ KB\n"
     ]
    }
   ],
   "source": [
    "train_df.info()"
   ]
  },
  {
   "cell_type": "code",
   "execution_count": 78,
   "metadata": {},
   "outputs": [
    {
     "name": "stdout",
     "output_type": "stream",
     "text": [
      "<class 'pandas.core.frame.DataFrame'>\n",
      "RangeIndex: 204 entries, 0 to 203\n",
      "Data columns (total 1 columns):\n",
      " #   Column    Non-Null Count  Dtype \n",
      "---  ------    --------------  ----- \n",
      " 0   filename  204 non-null    object\n",
      "dtypes: object(1)\n",
      "memory usage: 1.7+ KB\n"
     ]
    }
   ],
   "source": [
    "test_df.info()"
   ]
  },
  {
   "cell_type": "code",
   "execution_count": 79,
   "metadata": {},
   "outputs": [
    {
     "data": {
      "image/png": "[encoded data removed]",
      "text/plain": [
       "<Figure size 800x400 with 1 Axes>"
      ]
     },
     "metadata": {},
     "output_type": "display_data"
    }
   ],
   "source": [
    "plt.figure(figsize=(8, 4))\n",
    "sns.countplot(x='label', data=train_df)\n",
    "plt.title(\"Distribution of Grammar scores in Training data\")\n",
    "plt.xlabel(\"Grammar Score\")\n",
    "plt.ylabel(\"Count\")\n",
    "plt.show()\n"
   ]
  },
  {
   "cell_type": "code",
   "execution_count": null,
   "metadata": {},
   "outputs": [],
   "source": [
    "\n"
   ]
  },
  {
   "cell_type": "code",
   "execution_count": 80,
   "metadata": {},
   "outputs": [],
   "source": [
    "def extract_features(file_path):\n",
    "    y, sr = librosa.load(file_path, sr=None)\n",
    "\n",
    "    mfcc = librosa.feature.mfcc(y=y, sr=sr, n_mfcc=20)\n",
    "    mfcc_mean = mfcc.mean(axis=1)\n",
    "    mfcc_std = mfcc.std(axis=1)\n",
    "    zcr = librosa.feature.zero_crossing_rate(y).mean()\n",
    "    spectral_centroid = librosa.feature.spectral_centroid(y=y, sr=sr).mean()\n",
    "    spectral_rolloff = librosa.feature.spectral_rolloff(y=y, sr=sr).mean()\n",
    "    chroma_stft = librosa.feature.chroma_stft(y=y, sr=sr).mean()\n",
    "    features = np.hstack([mfcc_mean, mfcc_std, zcr, spectral_centroid, spectral_rolloff, chroma_stft])\n",
    "    return features"
   ]
  },
  {
   "cell_type": "code",
   "execution_count": 81,
   "metadata": {},
   "outputs": [
    {
     "name": "stdout",
     "output_type": "stream",
     "text": [
      "X shape: (444, 44)\n",
      "y shape: (444,)\n"
     ]
    }
   ],
   "source": [
    "features = []\n",
    "labels = []\n",
    "audio_files = \"Dataset/audios/train\"\n",
    "\n",
    "for _, row in train_df.iterrows():\n",
    "    fname = row[\"filename\"]\n",
    "    label = row[\"label\"]\n",
    "    file_path = os.path.join(audio_files, fname)\n",
    "\n",
    "    feat = extract_features(file_path)\n",
    "    features.append(feat)\n",
    "    labels.append(label)\n",
    "    \n",
    "X = np.vstack(features)\n",
    "y = np.array(labels)\n",
    "\n",
    "print(\"X shape:\", X.shape)\n",
    "print(\"y shape:\", y.shape)\n",
    "\n",
    "\n"
   ]
  },
  {
   "cell_type": "code",
   "execution_count": 82,
   "metadata": {},
   "outputs": [
    {
     "name": "stdout",
     "output_type": "stream",
     "text": [
      "Train: (355, 44) (355,)\n",
      "Val:   (89, 44) (89,)\n"
     ]
    }
   ],
   "source": [
    "from sklearn.model_selection import train_test_split\n",
    "X_train, X_val, y_train, y_val = train_test_split( X, y,test_size=0.2,random_state=42)\n",
    "print(\"Train:\", X_train.shape, y_train.shape)\n",
    "print(\"Val:  \", X_val.shape,   y_val.shape)"
   ]
  },
  {
   "cell_type": "code",
   "execution_count": 83,
   "metadata": {},
   "outputs": [],
   "source": [
    "def map_prediction(value):\n",
    "    j = int(value)\n",
    "    if (value - j) > 0.75:\n",
    "        return j+1\n",
    "    elif 0.5 < (value - j) <= 0.75:\n",
    "        return float(j + 0.5)\n",
    "    elif 0.25< (value - j) <= 0.5:\n",
    "        return float(j + 0.5)\n",
    "    else:\n",
    "        return j\n",
    "\n",
    "    "
   ]
  },
  {
   "cell_type": "code",
   "execution_count": 84,
   "metadata": {},
   "outputs": [
    {
     "name": "stdout",
     "output_type": "stream",
     "text": [
      "RMSE: 0.9525\n",
      "Pearson Correlation: 0.5767\n"
     ]
    }
   ],
   "source": [
    "from sklearn.metrics import mean_squared_error\n",
    "from scipy.stats import pearsonr\n",
    "from sklearn.linear_model import LinearRegression\n",
    "lr_model=LinearRegression()\n",
    "lr_model.fit(X_train,y_train)\n",
    "y_pred = lr_model.predict(X_val)\n",
    "y_pred_mapped = [map_prediction(i) for i in y_pred]\n",
    "\n",
    "\n",
    "# Manually compute RMSE\n",
    "rmse = np.sqrt(mean_squared_error(y_val, y_pred_mapped))\n",
    "\n",
    "# Pearson Correlation\n",
    "pearson_corr, _ = pearsonr(y_val, y_pred_mapped)\n",
    "\n",
    "print(f\"RMSE: {rmse:.4f}\")\n",
    "print(f\"Pearson Correlation: {pearson_corr:.4f}\")\n"
   ]
  },
  {
   "cell_type": "code",
   "execution_count": null,
   "metadata": {},
   "outputs": [
    {
     "name": "stdout",
     "output_type": "stream",
     "text": [
      "Validation RMSE: 0.8497\n",
      "Validation Pearson Correlation: 0.7117\n"
     ]
    }
   ],
   "source": [
    "from sklearn.ensemble import RandomForestRegressor\n",
    "\n",
    "model = RandomForestRegressor(n_estimators=100, random_state=42)\n",
    "model.fit(X_train, y_train)\n",
    "\n",
    "y_pred = model.predict(X_val)\n",
    "y_pred_mapped = [map_prediction(i) for i in y_pred]\n",
    "\n",
    "rmse = np.sqrt(mean_squared_error(y_val, y_pred_mapped))\n",
    "corr, _ = pearsonr(y_val, y_pred_mapped)\n",
    "\n",
    "print(f\"Validation RMSE: {rmse:.4f}\")\n",
    "print(f\"Validation Pearson Correlation: {corr:.4f}\")\n"
   ]
  },
  {
   "cell_type": "code",
   "execution_count": 86,
   "metadata": {},
   "outputs": [
    {
     "name": "stdout",
     "output_type": "stream",
     "text": [
      "MSE:  0.6404\n",
      "RMSE: 0.8003\n",
      "Pearson Correlation Score: 0.7546\n"
     ]
    }
   ],
   "source": [
    "from xgboost import XGBRegressor\n",
    "from sklearn.metrics import mean_squared_error\n",
    "from scipy.stats import pearsonr\n",
    "import numpy as np\n",
    "\n",
    "# Define and train the model\n",
    "model = XGBRegressor(\n",
    "    n_estimators=400,\n",
    "    learning_rate=0.05,\n",
    "    max_depth=6,\n",
    "    subsample=0.5,\n",
    "    colsample_bytree=0.8,\n",
    "    random_state=42,\n",
    ")\n",
    "model.fit(X_train, y_train)\n",
    "\n",
    "# Predict on validation set\n",
    "y_pred = model.predict(X_val)\n",
    "\n",
    "y_pred_mapped = [map_prediction(i) for i in y_pred]\n",
    "\n",
    "\n",
    "# Calculate performance metrics\n",
    "mse = mean_squared_error(y_val, y_pred_mapped)\n",
    "rmse = np.sqrt(mse)\n",
    "print(f\"MSE:  {mse:.4f}\")\n",
    "print(f\"RMSE: {rmse:.4f}\")\n",
    "\n",
    "# Pearson correlation\n",
    "pearson_corr, _ = pearsonr(y_val, y_pred_mapped)\n",
    "print(f\"Pearson Correlation Score: {pearson_corr:.4f}\")\n"
   ]
  },
  {
   "cell_type": "code",
   "execution_count": 87,
   "metadata": {},
   "outputs": [
    {
     "data": {
      "image/png": "[encoded data removed]",
      "text/plain": [
       "<Figure size 800x600 with 1 Axes>"
      ]
     },
     "metadata": {},
     "output_type": "display_data"
    }
   ],
   "source": [
    "import matplotlib.pyplot as plt\n",
    "import seaborn as sns\n",
    "\n",
    "\n",
    "plt.figure(figsize=(8, 6))\n",
    "sns.histplot(y_val, label=\"Actual\", color=\"blue\", kde=True, stat=\"density\")\n",
    "sns.histplot(y_pred_mapped, label=\"Predicted\", color=\"orange\", kde=True, stat=\"density\")\n",
    "plt.title(\"Distribution of Actual vs Predicted Scores\")\n",
    "plt.xlabel(\"Grammar Score\")\n",
    "plt.ylabel(\"Density\")\n",
    "plt.legend()\n",
    "plt.show()\n"
   ]
  },
  {
   "cell_type": "code",
   "execution_count": 88,
   "metadata": {},
   "outputs": [
    {
     "data": {
      "text/plain": [
       "['model.pkl']"
      ]
     },
     "execution_count": 88,
     "metadata": {},
     "output_type": "execute_result"
    }
   ],
   "source": [
    "import joblib\n",
    "from sklearn.ensemble import RandomForestRegressor\n",
    "joblib.dump(model, 'model.pkl')\n"
   ]
  },
  {
   "cell_type": "code",
   "execution_count": null,
   "metadata": {},
   "outputs": [],
   "source": []
  },
  {
   "cell_type": "code",
   "execution_count": null,
   "metadata": {},
   "outputs": [],
   "source": []
  },
  {
   "cell_type": "code",
   "execution_count": null,
   "metadata": {},
   "outputs": [],
   "source": [
    "\n"
   ]
  },
  {
   "cell_type": "code",
   "execution_count": null,
   "metadata": {},
   "outputs": [],
   "source": []
  },
  {
   "cell_type": "code",
   "execution_count": null,
   "metadata": {},
   "outputs": [],
   "source": []
  }
 ],
 "metadata": {
  "kernelspec": {
   "display_name": "Python 3",
   "language": "python",
   "name": "python3"
  },
  "language_info": {
   "codemirror_mode": {
    "name": "ipython",
    "version": 3
   },
   "file_extension": ".py",
   "mimetype": "text/x-python",
   "name": "python",
   "nbconvert_exporter": "python",
   "pygments_lexer": "ipython3",
   "version": "3.9.6"
  }
 },
 "nbformat": 4,
 "nbformat_minor": 2
}
